{
 "cells": [
  {
   "cell_type": "markdown",
   "metadata": {},
   "source": [
    "# Import Statements"
   ]
  },
  {
   "cell_type": "code",
   "execution_count": 1,
   "metadata": {},
   "outputs": [],
   "source": [
    "import numpy as np"
   ]
  },
  {
   "cell_type": "markdown",
   "metadata": {},
   "source": [
    "# Making Up A SIngle Neuron"
   ]
  },
  {
   "cell_type": "code",
   "execution_count": 2,
   "metadata": {},
   "outputs": [],
   "source": [
    "# A numpy array of shape (3,4) which represents the inputs given to us\n",
    "inputs = np.array([[1,2,3,-1],\n",
    "          [2,4,5,9],\n",
    "          [9,8,3,6]])"
   ]
  },
  {
   "cell_type": "code",
   "execution_count": 3,
   "metadata": {},
   "outputs": [
    {
     "data": {
      "text/plain": [
       "(3, 4)"
      ]
     },
     "execution_count": 3,
     "metadata": {},
     "output_type": "execute_result"
    }
   ],
   "source": [
    "inputs.shape"
   ]
  },
  {
   "cell_type": "code",
   "execution_count": 4,
   "metadata": {},
   "outputs": [],
   "source": [
    "''' This is just a random sets of values for now these represents us the weights for the neurons so there are a \n",
    "    total of 3 neurons here'''\n",
    "\n",
    "weights = np.array([[3,4,5,8],\n",
    "           [6,7,8,9],\n",
    "           [5,3,2,1]])\n",
    "\n",
    "'''And these are just some random biases'''\n",
    "biases = np.array([1,2,3])"
   ]
  },
  {
   "cell_type": "code",
   "execution_count": 5,
   "metadata": {},
   "outputs": [
    {
     "data": {
      "text/plain": [
       "(3, 4)"
      ]
     },
     "execution_count": 5,
     "metadata": {},
     "output_type": "execute_result"
    }
   ],
   "source": [
    "weights.shape"
   ]
  },
  {
   "cell_type": "markdown",
   "metadata": {},
   "source": [
    "# The main formula of getting the linear output from a neuron is:\n",
    "\n",
    "###  x represents the inputs given w as the weight matrix and b as the bias vector\n",
    "\n",
    "# $$ (x * w) + b $$"
   ]
  },
  {
   "cell_type": "markdown",
   "metadata": {},
   "source": [
    "### Here we are transposing the weight matrix because the inputs were not in shape\n",
    "\n",
    "### $$\\begin{bmatrix} 3 & 4 & 5 & 8 \\\\ 6 & 7 & 8 & 9 \\\\ 5 & 3 & 2 & 1 \\end{bmatrix}$$  \n",
    "$$\\begin{bmatrix} 3 & 6 & 5 \\\\ 4 & 7 & 3 \\\\ 5 & 8 & 2 \\\\ 8 & 9 & 1 \\end{bmatrix}$$"
   ]
  },
  {
   "cell_type": "code",
   "execution_count": 6,
   "metadata": {
    "scrolled": true
   },
   "outputs": [
    {
     "name": "stdout",
     "output_type": "stream",
     "text": [
      "[[ 19  37  19]\n",
      " [120 163  44]\n",
      " [123 190  84]]\n"
     ]
    }
   ],
   "source": [
    "print(np.dot(inputs, weights.T) + biases)"
   ]
  },
  {
   "cell_type": "code",
   "execution_count": 7,
   "metadata": {},
   "outputs": [],
   "source": [
    "'''Fully Connected Neurons'''\n",
    "# This is also just the same thing just made in classes so then we can actually initialize lots of layers!\n",
    "class Layer_Dense:\n",
    "    def __init__(self, n_inputs, n_outputs):\n",
    "        self.weights = np.random.rand(n_inputs, n_outputs)\n",
    "        self.weights = self.weights\n",
    "        self.biases = np.zeros(3)\n",
    "    \n",
    "    def forward(self, x):\n",
    "        self.output = np.dot(x, self.weights) + self.biases\n",
    "    "
   ]
  },
  {
   "cell_type": "code",
   "execution_count": 8,
   "metadata": {},
   "outputs": [],
   "source": [
    "# We are initializing 2 layers layer1 and layer2\n",
    "layer1 = Layer_Dense(4,3)\n",
    "layer2 = Layer_Dense(3,1)"
   ]
  },
  {
   "cell_type": "code",
   "execution_count": 9,
   "metadata": {},
   "outputs": [],
   "source": [
    "# the forward function basically do the input times the weight add the bias thing\n",
    "layer1.forward(inputs)"
   ]
  },
  {
   "cell_type": "code",
   "execution_count": 10,
   "metadata": {},
   "outputs": [
    {
     "data": {
      "text/plain": [
       "array([[ 0.97049553,  2.71477254,  4.1019159 ],\n",
       "       [ 3.37128334,  8.45591232, 16.27449221],\n",
       "       [ 3.34990952, 10.00656193, 18.46233716]])"
      ]
     },
     "execution_count": 10,
     "metadata": {},
     "output_type": "execute_result"
    }
   ],
   "source": [
    "# and this is the output from layer 1\n",
    "layer1.output"
   ]
  },
  {
   "cell_type": "code",
   "execution_count": 11,
   "metadata": {},
   "outputs": [],
   "source": [
    "# Now we calculate the output from layer 2 with the input being from layer1\n",
    "layer2.forward(layer1.output)"
   ]
  },
  {
   "cell_type": "code",
   "execution_count": 12,
   "metadata": {},
   "outputs": [
    {
     "data": {
      "text/plain": [
       "array([[ 3.39361302,  3.39361302,  3.39361302],\n",
       "       [11.982505  , 11.982505  , 11.982505  ],\n",
       "       [13.48731953, 13.48731953, 13.48731953]])"
      ]
     },
     "execution_count": 12,
     "metadata": {},
     "output_type": "execute_result"
    }
   ],
   "source": [
    "# this is the layer2's output\n",
    "layer2.output"
   ]
  },
  {
   "cell_type": "markdown",
   "metadata": {},
   "source": [
    "# Now lets try to make some of the activation functions"
   ]
  },
  {
   "cell_type": "markdown",
   "metadata": {},
   "source": [
    "# $$ \\partial = max(0, inputs)  = ReLu  $$ "
   ]
  },
  {
   "cell_type": "code",
   "execution_count": 13,
   "metadata": {},
   "outputs": [],
   "source": [
    "'''This class will store all the activation functions i am gonna make'''\n",
    "class Activations:\n",
    "    # The Relu Function\n",
    "    def Relu(self, x):\n",
    "        self.output = np.maximum(0, x)"
   ]
  },
  {
   "cell_type": "code",
   "execution_count": 14,
   "metadata": {},
   "outputs": [],
   "source": [
    "activation = Activations() # instantiating the Activations"
   ]
  },
  {
   "cell_type": "code",
   "execution_count": 15,
   "metadata": {},
   "outputs": [],
   "source": [
    "activation.Relu(layer1.output) # Getting the relu output from the output of layer 1"
   ]
  },
  {
   "cell_type": "code",
   "execution_count": 16,
   "metadata": {},
   "outputs": [
    {
     "data": {
      "text/plain": [
       "array([[ 0.97049553,  2.71477254,  4.1019159 ],\n",
       "       [ 3.37128334,  8.45591232, 16.27449221],\n",
       "       [ 3.34990952, 10.00656193, 18.46233716]])"
      ]
     },
     "execution_count": 16,
     "metadata": {},
     "output_type": "execute_result"
    }
   ],
   "source": [
    "layer1.output # This is the Layer1's Output"
   ]
  },
  {
   "cell_type": "code",
   "execution_count": 17,
   "metadata": {},
   "outputs": [
    {
     "data": {
      "text/plain": [
       "array([[ 0.97049553,  2.71477254,  4.1019159 ],\n",
       "       [ 3.37128334,  8.45591232, 16.27449221],\n",
       "       [ 3.34990952, 10.00656193, 18.46233716]])"
      ]
     },
     "execution_count": 17,
     "metadata": {},
     "output_type": "execute_result"
    }
   ],
   "source": [
    "activation.output # THis is the ReLu's Output!"
   ]
  },
  {
   "cell_type": "markdown",
   "metadata": {},
   "source": [
    "# TODO: Code up the gradient calculators and the Loss calculator"
   ]
  },
  {
   "cell_type": "code",
   "execution_count": 18,
   "metadata": {},
   "outputs": [],
   "source": [
    "import math"
   ]
  },
  {
   "cell_type": "code",
   "execution_count": 55,
   "metadata": {},
   "outputs": [],
   "source": [
    "class loss_Calc:\n",
    "    def MSE(self, y_pred, y_actual):\n",
    "        self.losses = (((y_actual - y_pred)**2)/ len(y_actual)) "
   ]
  },
  {
   "cell_type": "code",
   "execution_count": 56,
   "metadata": {},
   "outputs": [],
   "source": [
    "test_y_actual = np.array([1,2,3,4,5])\n",
    "test_y_pred = np.array([2,4,6,7,6])\n",
    "\n",
    "losscalc = loss_Calc()"
   ]
  },
  {
   "cell_type": "code",
   "execution_count": 57,
   "metadata": {},
   "outputs": [],
   "source": [
    "losscalc.MSE(test_y_pred, test_y_actual)"
   ]
  },
  {
   "cell_type": "code",
   "execution_count": 58,
   "metadata": {},
   "outputs": [
    {
     "data": {
      "text/plain": [
       "array([0.2, 0.8, 1.8, 1.8, 0.2])"
      ]
     },
     "execution_count": 58,
     "metadata": {},
     "output_type": "execute_result"
    }
   ],
   "source": [
    "losscalc.losses"
   ]
  },
  {
   "cell_type": "code",
   "execution_count": 59,
   "metadata": {},
   "outputs": [],
   "source": [
    "import matplotlib.pyplot as plt"
   ]
  },
  {
   "cell_type": "code",
   "execution_count": 60,
   "metadata": {},
   "outputs": [],
   "source": [
    "%matplotlib inline"
   ]
  },
  {
   "cell_type": "code",
   "execution_count": 61,
   "metadata": {},
   "outputs": [
    {
     "data": {
      "image/png": "[encoded data removed]",
      "text/plain": [
       "<Figure size 432x288 with 1 Axes>"
      ]
     },
     "metadata": {
      "needs_background": "light"
     },
     "output_type": "display_data"
    }
   ],
   "source": [
    "plt.plot(losscalc.losses)\n",
    "plt.show()"
   ]
  },
  {
   "cell_type": "markdown",
   "metadata": {},
   "source": [
    "# Todo: Create The Gradient Calculator And Do THe BackPropogation"
   ]
  },
  {
   "cell_type": "code",
   "execution_count": null,
   "metadata": {},
   "outputs": [],
   "source": []
  }
 ],
 "metadata": {
  "kernelspec": {
   "display_name": "Python 3",
   "language": "python",
   "name": "python3"
  },
  "language_info": {
   "codemirror_mode": {
    "name": "ipython",
    "version": 3
   },
   "file_extension": ".py",
   "mimetype": "text/x-python",
   "name": "python",
   "nbconvert_exporter": "python",
   "pygments_lexer": "ipython3",
   "version": "3.7.7"
  }
 },
 "nbformat": 4,
 "nbformat_minor": 4
}
